{
 "cells": [
  {
   "cell_type": "code",
   "execution_count": null,
   "metadata": {},
   "outputs": [],
   "source": [
    "import numpy as np\n",
    "import os\n",
    "import pandas\n",
    "import random\n",
    "import scipy.stats\n",
    "from scipy.stats import bernoulli\n",
    "from tqdm import tqdm_notebook as tqdm\n",
    "import matplotlib. pyplot as plt"
   ]
  },
  {
   "cell_type": "markdown",
   "metadata": {},
   "source": [
    "# Simulating the fragmentation events\n",
    "\n",
    "## Utility functions\n",
    "\n",
    "Before running the proper simulation, we define the relevant functions, as described in the SI."
   ]
  },
  {
   "cell_type": "code",
   "execution_count": null,
   "metadata": {},
   "outputs": [],
   "source": [
    "def simulation(N_rounds, N_cells, lambda_per_n):\n",
    "    \n",
    "    state_array = pandas.DataFrame()\n",
    "    lambda_per_n = lambda_per_n.fillna(0)\n",
    "    \n",
    "    n_in = 0\n",
    "    n_out = N_cells\n",
    "    \n",
    "    for i in range(N_rounds):\n",
    "        \n",
    "        n_in_prob = min(5, n_in)\n",
    "        p_in = 1-np.exp(-np.random.choice(lambda_per_n.loc[lambda_per_n['N_contact'] == n_in_prob, 'lambda_arrival']*2))\n",
    "\n",
    "        n_out_prob = min(5, n_in)\n",
    "        p_out = 1-np.exp(-np.random.choice(lambda_per_n.loc[lambda_per_n['N_contact'] == n_out_prob, 'lambda_leave']*2))\n",
    " \n",
    "        new_state_in = np.random.binomial(1, p_in, n_out).sum()\n",
    "        new_state_out = np.random.binomial(1, p_out, n_in).sum()\n",
    "        \n",
    "        n_in += new_state_in - new_state_out\n",
    "        n_out +=  - new_state_in + new_state_out\n",
    "\n",
    "        state_array.loc[i, 'n_in'] = n_in\n",
    "        state_array.loc[i, 'n_out'] = n_out\n",
    "        \n",
    "    return state_array"
   ]
  },
  {
   "cell_type": "markdown",
   "metadata": {},
   "source": [
    "The fragmentation probability as a function of the number of CTLs can be well-fitted by a sigmoid. For the purpose of this simulation we used the experimentally derived parameters for the best-fitting sigmoid."
   ]
  },
  {
   "cell_type": "code",
   "execution_count": null,
   "metadata": {},
   "outputs": [],
   "source": [
    "def _sigmoid(x, n0, s0):\n",
    "    \n",
    "    return 1 / (1 + np.exp(-(x-n0)/s0))\n",
    "\n",
    "n0 = 4.12234547\n",
    "s0 = 0.68366999"
   ]
  },
  {
   "cell_type": "markdown",
   "metadata": {},
   "source": [
    "## Simulation procedure\n",
    "\n",
    "For CTL numbers per drop ranging from 0 to 20 cells, we run the simulation 200 times and extract the probability to die for each CTL concentration value. The relevant data is stored in `total_frame`."
   ]
  },
  {
   "cell_type": "code",
   "execution_count": null,
   "metadata": {},
   "outputs": [],
   "source": [
    "total_frame = pandas.DataFrame()\n",
    "\n",
    "result = pandas.DataFrame()\n",
    "i = 0\n",
    "\n",
    "for N in tqdm(range(20)):\n",
    "    \n",
    "    loc_frame = pandas.DataFrame()\n",
    "    j = 0\n",
    "    \n",
    "    for N_repeat in range(200):\n",
    "        \n",
    "        state_array_analysis = simulation(14*30, N, lambda_per_n)\n",
    "        loc_frame.loc[j, 'death_3'] = int(np.any(state_array_analysis['n_in'] == 3))\n",
    "        loc_frame.loc[j, 'death_4'] = int(np.any(state_array_analysis['n_in'] == 4))\n",
    "        \n",
    "        n_max = state_array_analysis['n_in'].max()\n",
    "        p = _sigmoid(n_max, n0, s0)\n",
    "        r = bernoulli.rvs(p, size=1)\n",
    "        \n",
    "        loc_frame.loc[j, 'death_sig'] = r\n",
    "        j += 1\n",
    "        \n",
    "    result.loc[i, 'N'] = N\n",
    "    result.loc[i, 'death_prob_3'] = loc_frame['death_3'].mean()\n",
    "    result.loc[i, 'death_prob_4'] = loc_frame['death_4'].mean()\n",
    "    result.loc[i, 'death_prob_sig'] = loc_frame['death_sig'].mean()\n",
    "    i += 1\n",
    "    \n",
    "    loc_frame['N'] = N\n",
    "    loc_frame = loc_frame[['N', 'death_sig']]\n",
    "    total_frame = total_frame.append(loc_frame)"
   ]
  }
 ],
 "metadata": {
  "kernelspec": {
   "display_name": "Python 3",
   "language": "python",
   "name": "python3"
  },
  "language_info": {
   "codemirror_mode": {
    "name": "ipython",
    "version": 3
   },
   "file_extension": ".py",
   "mimetype": "text/x-python",
   "name": "python",
   "nbconvert_exporter": "python",
   "pygments_lexer": "ipython3",
   "version": "3.9.0"
  }
 },
 "nbformat": 4,
 "nbformat_minor": 2
}

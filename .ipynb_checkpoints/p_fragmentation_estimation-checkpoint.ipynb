{
 "cells": [
  {
   "cell_type": "code",
   "execution_count": 2,
   "metadata": {},
   "outputs": [],
   "source": [
    "import numpy as np\n",
    "import os\n",
    "import pandas\n",
    "\n",
    "import random\n",
    "import scipy.stats\n",
    "\n",
    "import seaborn as sns\n",
    "from tqdm import tqdm_notebook as tqdm\n",
    "import matplotlib. pyplot as plt\n",
    "import matplotlib as mpl\n"
   ]
  },
  {
   "cell_type": "markdown",
   "metadata": {},
   "source": [
    "# 1) Preparing the data\n",
    "\n",
    "The accumulation data contained in the files named `AnalysisFrame` and the recorded fragmentation times in the CSV files named `comparisonFrame` are combined for later analysis."
   ]
  },
  {
   "cell_type": "code",
   "execution_count": 3,
   "metadata": {},
   "outputs": [],
   "source": [
    "AnalysisFrame_OVA_20200804 = pandas.read_csv(os.path.join(r'./accumulation_data/OVA',  'deadFrame_2min_20200804.csv'))\n",
    "AnalysisFrame_OVA_20201015 = pandas.read_csv(os.path.join(r'./accumulation_data/OVA',  'deadFrame_2min_20201015.csv'))\n",
    "AnalysisFrame_OVA_20201113 = pandas.read_csv(os.path.join(r'./accumulation_data/OVA',  'deadFrame_2min_20201113.csv'))\n",
    "\n",
    "AnalysisFrame_OVA_20200804 = AnalysisFrame_OVA_20200804.fillna(0)\n",
    "AnalysisFrame_OVA_20201015 = AnalysisFrame_OVA_20201015.fillna(0)\n",
    "AnalysisFrame_OVA_20201113 = AnalysisFrame_OVA_20201113.fillna(0)\n",
    "\n",
    "comparisonFrame_OVA_20200804 = pandas.read_csv(os.path.join(r'./accumulation_data/OVA',  'endPointFrame_2min_20200804.csv'))\n",
    "comparisonFrame_OVA_20201015 = pandas.read_csv(os.path.join(r'./accumulation_data/OVA',  'endPointFrame_2min_20201015.csv'))\n",
    "comparisonFrame_OVA_20201113 = pandas.read_csv(os.path.join(r'./accumulation_data/OVA',  'endPointFrame_2min_20201113.csv'))\n",
    "\n",
    "AnalysisFrame = AnalysisFrame_OVA_20201113.append([comparisonFrame_OVA_20200804, comparisonFrame_OVA_20201015])\n",
    "\n",
    "for ID in AnalysisFrame.ID.unique():\n",
    "    \n",
    "    AnalysisFrame.loc[AnalysisFrame.ID == ID, 'N_max'] = AnalysisFrame.loc[AnalysisFrame.ID == ID, 'N'].max()"
   ]
  },
  {
   "cell_type": "markdown",
   "metadata": {},
   "source": [
    "The function `prepare_count_frame` combines the information from `comparisonFrame` where the fragmentation times for each well are listed with the tracked number of CTLs on the spheroid contained in `AnalysisFrame`."
   ]
  },
  {
   "cell_type": "code",
   "execution_count": 4,
   "metadata": {},
   "outputs": [],
   "source": [
    "def prepare_count_frame(analysis_frame,\n",
    "                        comparison_frame):\n",
    "    \n",
    "    \"\"\"\n",
    "    A function to combine the data tracking the number of CTLs on the spheroid\n",
    "    and the first fragmentation times into a single DataFrame.\n",
    "    \"\"\"\n",
    "    \n",
    "    for ID in comparison_frame.ID.unique():\n",
    "        \n",
    "        analysis_frame.loc[analysis_frame.ID == ID, 'T_frag'] = comparison_frame.loc[comparison_frame.ID == ID, 'T_frag'].iloc[0]\n",
    "        analysis_frame.loc[analysis_frame.ID == ID, 'Death'] = comparison_frame.loc[comparison_frame.ID == ID, 'Death'].iloc[0]\n",
    "        \n",
    "        # Smoothen the number of cells on the spheroid to avoid\n",
    "        # spurious detections\n",
    "        analysis_frame.loc[analysis_frame.ID == ID, 'N contact'] = (analysis_frame.loc[analysis_frame.ID == ID, 'N contact'].rolling(10, min_periods=1).mean()+0.5).astype(int)\n",
    "        \n",
    "    analysis_frame['T_frag'] = analysis_frame['T_frag'].fillna(1000)\n",
    "    \n",
    "    return analysis_frame[['frame', 'T_frag', 'N contact', 'ID', 'Death']]\n",
    "\n",
    "OVA_20200804 = prepare_count_frame(AnalysisFrame_OVA_20200804,\n",
    "                        comparisonFrame_OVA_20200804)\n",
    "OVA_20201015 = prepare_count_frame(AnalysisFrame_OVA_20201015,\n",
    "                        comparisonFrame_OVA_20201015)\n",
    "OVA_20201113 = prepare_count_frame(AnalysisFrame_OVA_20201113,\n",
    "                        comparisonFrame_OVA_20201113)"
   ]
  },
  {
   "cell_type": "code",
   "execution_count": 5,
   "metadata": {},
   "outputs": [],
   "source": [
    "total_position_frame = OVA_20200804.append(OVA_20201015).append(OVA_20201113)\n",
    "total_position_frame = total_position_frame[total_position_frame.frame <= total_position_frame.T_frag]"
   ]
  },
  {
   "cell_type": "markdown",
   "metadata": {},
   "source": [
    "# 2) Data analysis\n",
    "\n",
    "We now estimate the value of $\\Gamma_{\\text{frag}}$ for different numbers of CTLs on the spheroid $n$. $\\Gamma_{\\text{frag}}(n)$ is the probability that the $n$ CTLs on the spheroid will cause a fragmentation event over the course of a time-step $\\Delta t$.\n",
    "\n",
    "Maximum-likelihood inference of $\\Gamma_{\\text{frag}}(n)$ from the experimental data leads to $\\Gamma_{\\text{frag}}(n) = \\frac{N_{\\text{frag}}^n}{N_{\\text{frag}}^n+N^n}$ where $N_{\\text{frag}}^n$ is the number of times a fragmentation event occurs with exactly $n$ CTLs on the spheroid and $N^n$ the number of instances where $n$ CTLs are on the spheroid *before* a fragmentation event occurs."
   ]
  },
  {
   "cell_type": "code",
   "execution_count": 6,
   "metadata": {},
   "outputs": [],
   "source": [
    "rho = pandas.DataFrame()\n",
    "i = 0\n",
    "\n",
    "for n_death in np.arange(0,10):\n",
    "\n",
    "    # get the number of times we see fragmentation at EXACTLY\n",
    "    # n_death cells on the spheroid\n",
    "\n",
    "    death_frame = total_position_frame[(total_position_frame.T_frag == total_position_frame.frame) &\n",
    "                                       (total_position_frame.Death == 1) & \n",
    "                                       (total_position_frame['N contact'] == n_death)]\n",
    "\n",
    "    n_death_instance = len(death_frame)\n",
    "\n",
    "    # get the total number of times we have n_death on the spheroid\n",
    "    # w/o any fragmentation\n",
    "\n",
    "    count_frame = total_position_frame[(total_position_frame.T_frag > total_position_frame.frame) & \n",
    "                                       (total_position_frame['N contact'] == n_death)]\n",
    "\n",
    "    n_count_instance = len(count_frame)\n",
    "\n",
    "    # apply formula\n",
    "    rho.loc[i, 'n_death'] = n_death\n",
    "    rho.loc[i, 'n_death_instance'] = n_death_instance\n",
    "    rho.loc[i, 'n_count_instance'] = n_count_instance\n",
    "    \n",
    "    if n_count_instance == 0:\n",
    "        rho.loc[i, 'rho'] = 1\n",
    "        rho.loc[i, 'gamma'] = 1\n",
    "    elif n_death_instance == 0:\n",
    "        rho.loc[i, 'rho'] = 0\n",
    "        rho.loc[i, 'gamma'] = 0\n",
    "    else:\n",
    "        rho.loc[i, 'gamma'] = n_death_instance/(n_count_instance+n_death_instance)\n",
    "    i += 1"
   ]
  },
  {
   "cell_type": "code",
   "execution_count": 10,
   "metadata": {},
   "outputs": [],
   "source": [
    "b = np.polyfit(rho.n_death.values[1:-1], np.log(rho.gamma.values[1:-1]), 1)\n",
    "\n",
    "fit_death_prob = [np.exp(b[1]+b[0]*i) for i in rho.n_death.values[1:]]"
   ]
  },
  {
   "cell_type": "code",
   "execution_count": 11,
   "metadata": {},
   "outputs": [],
   "source": [
    "from scipy.optimize import curve_fit\n",
    "\n",
    "def func(x, p):\n",
    "    return 1 - (1-p)**x\n",
    "\n",
    "popt, pcov = curve_fit(func, rho.n_death.values[1:5], rho.gamma.values[1:5])"
   ]
  },
  {
   "cell_type": "code",
   "execution_count": 12,
   "metadata": {},
   "outputs": [
    {
     "data": {
      "image/png": "[encoded data removed]",
      "text/plain": [
       "<Figure size 432x288 with 1 Axes>"
      ]
     },
     "metadata": {
      "needs_background": "light"
     },
     "output_type": "display_data"
    }
   ],
   "source": [
    "fig, ax = plt.subplots(figsize = (6,4))\n",
    "\n",
    "plt.xticks(fontsize= 14)\n",
    "plt.yticks(fontsize= 14)\n",
    "\n",
    "ax.semilogy(rho.n_death.values[1:], \n",
    "        rho.gamma.values[1:],\n",
    "        'ko',\n",
    "        label = 'Experimental data')\n",
    "\n",
    "ax.semilogy(rho.n_death.values[1:], \n",
    "        fit_death_prob,\n",
    "        'r--',\n",
    "        lw = 3,\n",
    "        label = 'Exponential fit ')\n",
    "\n",
    "plt.semilogy(rho.n_death.values[1:], \n",
    "             func(rho.n_death.values[1:], *popt), \n",
    "             'b--',\n",
    "             lw = 3,\n",
    "             label='Independent CTLs')\n",
    "\n",
    "ax.set_ylabel('$\\\\Gamma_{frag}$ (min$^{-1}$)', fontsize = 15)\n",
    "ax.set_xlabel('Number of CTLs on the spheroid', fontsize = 15)\n",
    "plt.legend(fontsize = 15)\n",
    "plt.tight_layout()\n",
    "plt.savefig('plots/Gamma_estimation_fit_independent.pdf', bbox_inches='tight')\n",
    "plt.savefig('plots/Gamma_estimation_fit_independent.svg', bbox_inches='tight')"
   ]
  },
  {
   "cell_type": "markdown",
   "metadata": {},
   "source": [
    "# 3) Simulating the CTL accumulation and death\n",
    "\n",
    "We model the spheroid accumulation and fragmentation as a branching process. For each time-step we update the number of CTLs using the `accumulation_simulation` function. Then the impact of spheroid fragmentation is added with the parameters inferred in 2)."
   ]
  },
  {
   "cell_type": "code",
   "execution_count": 13,
   "metadata": {},
   "outputs": [],
   "source": [
    "# We load the experimental estimates for lambda_in and lambda_out necessary to simulate the accumulation process.\n",
    "\n",
    "lambda_per_n = pandas.read_csv('20201125_lambda_per_n_exp_2020.csv')"
   ]
  },
  {
   "cell_type": "code",
   "execution_count": 14,
   "metadata": {},
   "outputs": [],
   "source": [
    "def death(n_max, b):\n",
    "    \n",
    "    \"\"\"\n",
    "    This function extrapolates the fragmentation probabilities at a given\n",
    "    time-step from the best-fit of the experimentally inferred values of\n",
    "    gamma_frag in 2).\n",
    "    \"\"\"\n",
    "        \n",
    "    return [2*np.exp(i*b[0]+b[1]) for i in np.arange(0, n_max)]\n",
    "\n",
    "def accumulation_simulation(N_rounds, \n",
    "               N_cells, \n",
    "               lambda_per_n):\n",
    "    \n",
    "    \"\"\"\n",
    "    This function simulates the CTL accumulation on the spheroid irrespective \n",
    "    of eventual spheroid fragmentation events taken into account later.\n",
    "    \"\"\"\n",
    "    \n",
    "    state_array = pandas.DataFrame()\n",
    "    lambda_per_n = lambda_per_n.fillna(0)\n",
    "    \n",
    "    n_in = 0\n",
    "    n_out = N_cells\n",
    "    \n",
    "    for i in range(N_rounds):\n",
    "        \n",
    "        # We randomly select estimated lambdas\n",
    "        n_in_prob = min(6, n_in)\n",
    "        p_in = 1-np.exp(-np.random.choice(lambda_per_n.loc[lambda_per_n['N_contact'] == n_in_prob, 'lambda_arrival']))\n",
    "    \n",
    "        n_out_prob = min(6, n_in)\n",
    "        p_out = 1-np.exp(-np.random.choice(lambda_per_n.loc[lambda_per_n['N_contact'] == n_out_prob, 'lambda_leave']))\n",
    " \n",
    "        new_state_in = np.random.binomial(1, p_in, n_out).sum()\n",
    "        new_state_out = np.random.binomial(1, p_out, n_in).sum()\n",
    "        \n",
    "        n_in += new_state_in - new_state_out\n",
    "        n_out +=  - new_state_in + new_state_out\n",
    "\n",
    "        state_array.loc[i, 'n_in'] = n_in\n",
    "        state_array.loc[i, 'n_out'] = n_out\n",
    "        \n",
    "    return state_array"
   ]
  },
  {
   "cell_type": "code",
   "execution_count": 17,
   "metadata": {},
   "outputs": [
    {
     "name": "stderr",
     "output_type": "stream",
     "text": [
      "<ipython-input-17-2b895251ec03>:13: TqdmDeprecationWarning: This function will be removed in tqdm==5.0.0\n",
      "Please use `tqdm.notebook.tqdm` instead of `tqdm.tqdm_notebook`\n",
      "  for N in tqdm(range(20)):\n"
     ]
    },
    {
     "data": {
      "application/vnd.jupyter.widget-view+json": {
       "model_id": "af983fc9ae324ee8b1fe51ecca01d40a",
       "version_major": 2,
       "version_minor": 0
      },
      "text/plain": [
       "HBox(children=(HTML(value=''), FloatProgress(value=0.0, max=20.0), HTML(value='')))"
      ]
     },
     "metadata": {},
     "output_type": "display_data"
    },
    {
     "name": "stdout",
     "output_type": "stream",
     "text": [
      "\n"
     ]
    }
   ],
   "source": [
    "from scipy.stats import bernoulli\n",
    "\n",
    "total_frame = pandas.DataFrame()\n",
    "\n",
    "n_max = 20\n",
    "# 1 frame = 2' time-step\n",
    "death_prob = 2*death(n_max, b)\n",
    "death_prob[0] = 0\n",
    "\n",
    "result = pandas.DataFrame()\n",
    "i = 0\n",
    "\n",
    "for N in tqdm(range(20)):\n",
    "    \n",
    "    loc_frame = pandas.DataFrame()\n",
    "    j = 0\n",
    "    \n",
    "    for N_repeat in range(200):\n",
    "        \n",
    "        state_array_analysis = accumulation_simulation(14*30, N, lambda_per_n)\n",
    "     \n",
    "        n_max = state_array_analysis['n_in'].max()\n",
    "        \n",
    "        death_prob_droplet = [min(death_prob[n],1) for n in state_array_analysis['n_in'].values.astype(int)]\n",
    "        r = list(bernoulli.rvs(death_prob_droplet, size=len(state_array_analysis)))\n",
    "        \n",
    "        loc_frame.loc[j, 'frag'] = int(1 in r)\n",
    "        if 1 in r:\n",
    "            loc_frame.loc[j, 'frag_time'] = r.index(1)\n",
    "        else:\n",
    "            loc_frame.loc[j, 'frag_time'] = np.nan\n",
    "        j += 1\n",
    "        \n",
    "    result.loc[i, 'N'] = N\n",
    "    result.loc[i, 'death_prob'] = loc_frame['frag'].mean()\n",
    "    i += 1\n",
    "    \n",
    "    loc_frame['N'] = N\n",
    "    loc_frame = loc_frame[['N', 'frag', 'frag_time']]\n",
    "    total_frame = total_frame.append(loc_frame)"
   ]
  }
 ],
 "metadata": {
  "kernelspec": {
   "display_name": "Python 3",
   "language": "python",
   "name": "python3"
  },
  "language_info": {
   "codemirror_mode": {
    "name": "ipython",
    "version": 3
   },
   "file_extension": ".py",
   "mimetype": "text/x-python",
   "name": "python",
   "nbconvert_exporter": "python",
   "pygments_lexer": "ipython3",
   "version": "3.8.5"
  }
 },
 "nbformat": 4,
 "nbformat_minor": 4
}
